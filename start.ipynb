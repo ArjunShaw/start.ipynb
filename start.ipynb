{
 "cells": [
  {
   "cell_type": "code",
   "execution_count": 1,
   "metadata": {},
   "outputs": [
    {
     "name": "stdout",
     "output_type": "stream",
     "text": [
      "Hello world\n"
     ]
    }
   ],
   "source": [
    "print(\"Hello world\")"
   ]
  },
  {
   "cell_type": "code",
   "execution_count": 6,
   "metadata": {},
   "outputs": [
    {
     "name": "stdout",
     "output_type": "stream",
     "text": [
      "Square of the number :  121.0\n"
     ]
    }
   ],
   "source": [
    "import math\n",
    "a = float(input(\"Enter the number : \"))\n",
    "sq = a**2\n",
    "print(\"Square of the number : \", sq)\n"
   ]
  },
  {
   "cell_type": "code",
   "execution_count": 13,
   "metadata": {},
   "outputs": [
    {
     "name": "stdout",
     "output_type": "stream",
     "text": [
      "this number is positive\n"
     ]
    }
   ],
   "source": [
    "num = int(input(\"Enter the number : \"))\n",
    "if num > 0:\n",
    "    print(\"this number is positive\")\n",
    "elif num < 0:\n",
    "    print(\"this number is negative\")\n",
    "else:\n",
    "    print(\"It is Zero(0)\")"
   ]
  },
  {
   "cell_type": "code",
   "execution_count": 14,
   "metadata": {},
   "outputs": [
    {
     "name": "stdout",
     "output_type": "stream",
     "text": [
      "volume of numerator :  24.0\n"
     ]
    }
   ],
   "source": [
    "a = float(input(\"Enter the numer : \"))\n",
    "b = float(input(\"Enter the second number : \"))\n",
    "c = float(input(\"Enter the third number : \"))\n",
    "\n",
    "vol = a*b*c\n",
    "print(\"volume of numerator : \",vol)"
   ]
  },
  {
   "cell_type": "code",
   "execution_count": 17,
   "metadata": {},
   "outputs": [
    {
     "name": "stdout",
     "output_type": "stream",
     "text": [
      "Students 10\n",
      "Students 9\n",
      "Students 8\n",
      "Students 7\n",
      "Students 6\n",
      "Students 5\n",
      "Students 4\n",
      "Students 3\n",
      "Students 2\n",
      "Students 1\n"
     ]
    }
   ],
   "source": [
    "x = 10\n",
    "while x >= 1:\n",
    "    print(\"Students\", x)\n",
    "    x = x-1\n"
   ]
  },
  {
   "cell_type": "code",
   "execution_count": 20,
   "metadata": {},
   "outputs": [
    {
     "name": "stdout",
     "output_type": "stream",
     "text": [
      "b is greater  15\n"
     ]
    }
   ],
   "source": [
    "a = int(input(\"Enter the number 1 : \"))\n",
    "b = int(input(\"Enter the number 2 : \"))\n",
    "if a > b :\n",
    "    print(\"a is greater \", a)\n",
    "\n",
    "else:\n",
    "     print(\"b is greater \", b)"
   ]
  },
  {
   "cell_type": "code",
   "execution_count": 22,
   "metadata": {},
   "outputs": [
    {
     "name": "stdout",
     "output_type": "stream",
     "text": [
      "2\n"
     ]
    }
   ],
   "source": [
    "s = \"arjuna\"\n",
    "print(s.count('a'))\n"
   ]
  },
  {
   "cell_type": "code",
   "execution_count": 26,
   "metadata": {},
   "outputs": [
    {
     "name": "stdout",
     "output_type": "stream",
     "text": [
      "2\n"
     ]
    }
   ],
   "source": [
    "name = input(\"Enter the name : \")\n",
    "a = input(\"Enter the character : \")\n",
    "count = 1\n",
    "if a in name:\n",
    "    count = count + 1\n",
    "print(count)"
   ]
  },
  {
   "cell_type": "code",
   "execution_count": 28,
   "metadata": {},
   "outputs": [
    {
     "name": "stdout",
     "output_type": "stream",
     "text": [
      "the letter 'a' appears'4' times in the'samaramar'\n"
     ]
    }
   ],
   "source": [
    "word = input(\"Enter the word : \")\n",
    "letter = input(\"Enter the letter : \")\n",
    "\n",
    "count = word.count(letter)\n",
    "print(f\"the letter '{letter}' appears'{count}' times in the'{word}'\")"
   ]
  },
  {
   "cell_type": "code",
   "execution_count": null,
   "metadata": {},
   "outputs": [
    {
     "name": "stdout",
     "output_type": "stream",
     "text": [
      "win\n"
     ]
    }
   ],
   "source": [
    "user = int(input(\"Enter the numer : \"))\n",
    "for i in range(3):\n",
    "   n = int(input(\"Guess\"))\n",
    "\n",
    "if(n%2 == 0):\n",
    "    print(\"win\")\n",
    "elif(n%2 != 0):\n",
    "    print(\"you enter the odd numer \")\n",
    "else:\n",
    "    print (\"try again\")\n",
    "    \n"
   ]
  },
  {
   "cell_type": "code",
   "execution_count": 34,
   "metadata": {},
   "outputs": [
    {
     "name": "stdout",
     "output_type": "stream",
     "text": [
      "You lost\n"
     ]
    }
   ],
   "source": [
    "chance = 1\n",
    "while chance <= 3:\n",
    "    x = int(input(\"Enter an even number : \"))\n",
    "    if x % 2 == 0:\n",
    "        break\n",
    "    chance += 1\n",
    "    \n",
    "if chance == 4:\n",
    "    print(\"You lost\")\n",
    "else:\n",
    "    print(\"you win\")"
   ]
  },
  {
   "cell_type": "code",
   "execution_count": 8,
   "metadata": {},
   "outputs": [
    {
     "name": "stdout",
     "output_type": "stream",
     "text": [
      "11 is a prime number.\n",
      "13 is a prime number.\n",
      "17 is a prime number.\n",
      "19 is a prime number.\n"
     ]
    }
   ],
   "source": [
    "a = int(input(\"Enter a number : \"))\n",
    "b = int(input(\"Enter a second number : \"))\n",
    "for num in range(a, b):  \n",
    "    is_prime = True  \n",
    "    \n",
    "    if num <= 1:\n",
    "        is_prime = False  \n",
    "    else:\n",
    "        for i in range(2, int(num ** 0.5) + 1):  \n",
    "            if num % i == 0:\n",
    "                is_prime = False  \n",
    "                break\n",
    "\n",
    "    if is_prime:\n",
    "        print(num, \"is a prime number.\")\n"
   ]
  },
  {
   "cell_type": "code",
   "execution_count": 7,
   "metadata": {},
   "outputs": [
    {
     "name": "stdout",
     "output_type": "stream",
     "text": [
      "11 is prime in range\n",
      "13 is prime in range\n",
      "17 is prime in range\n",
      "19 is prime in range\n"
     ]
    }
   ],
   "source": [
    "a = int(input(\"Enter a number : \"))\n",
    "b = int(input(\"Enter a second number : \"))\n",
    "s = range(a, b)\n",
    "\n",
    "for x in s:\n",
    "    for num in range(2, x):\n",
    "        if x % num == 0:\n",
    "            break\n",
    "    else:\n",
    "         print(x, \"is prime in range\")"
   ]
  },
  {
   "cell_type": "code",
   "execution_count": 10,
   "metadata": {},
   "outputs": [
    {
     "name": "stdout",
     "output_type": "stream",
     "text": [
      "10, 20, 30, "
     ]
    }
   ],
   "source": [
    "l = []\n",
    "l.append(10)\n",
    "l.append(20)\n",
    "l.append(30)\n",
    "\n",
    "for i in l:\n",
    "    print(i, end=\", \")"
   ]
  },
  {
   "cell_type": "code",
   "execution_count": 12,
   "metadata": {},
   "outputs": [
    {
     "name": "stdout",
     "output_type": "stream",
     "text": [
      "[10, 20, 30]\n",
      "[10, 50, 20, 30]\n"
     ]
    }
   ],
   "source": [
    "a = [10,20]\n",
    "a.insert(2,30)\n",
    "print(a)\n",
    "a.insert(1, 50)\n",
    "print(a)"
   ]
  },
  {
   "cell_type": "code",
   "execution_count": 16,
   "metadata": {},
   "outputs": [
    {
     "name": "stdout",
     "output_type": "stream",
     "text": [
      "[1, 2, 2, 3, 4, 6, 7]\n"
     ]
    }
   ],
   "source": [
    "#sorting element i ascending and descending order\n",
    "D = [2, 4, 1, 6, 3, 7, 2]\n",
    "# D.sort(reverse = True) # descending order\n",
    "D.sort(reverse = False) # ascending order\n",
    "print(D)"
   ]
  },
  {
   "cell_type": "code",
   "execution_count": 22,
   "metadata": {},
   "outputs": [
    {
     "name": "stdout",
     "output_type": "stream",
     "text": [
      "55\n"
     ]
    }
   ],
   "source": [
    "list=[1,2,3,4,5,6,7,8,9,10]\n",
    "sum = 0\n",
    "for num in list:\n",
    "    sum += num\n",
    "\n",
    "print(sum)\n",
    "    "
   ]
  },
  {
   "cell_type": "code",
   "execution_count": 32,
   "metadata": {},
   "outputs": [
    {
     "name": "stdout",
     "output_type": "stream",
     "text": [
      "the number is not leap year\n"
     ]
    }
   ],
   "source": [
    "year = int(input(\"Enter the year :\"))\n",
    "\n",
    "if (year % 4 == 0 and year % 100!= 0) or (year % 400 == 0):\n",
    "    print (\"The number is leap year.\")\n",
    "else:\n",
    "    print(\"the number is not leap year\")"
   ]
  },
  {
   "cell_type": "code",
   "execution_count": null,
   "metadata": {},
   "outputs": [
    {
     "data": {
      "text/plain": [
       "'wahS nujrA si eman yM '"
      ]
     },
     "execution_count": 34,
     "metadata": {},
     "output_type": "execute_result"
    }
   ],
   "source": [
    "s1 = \" My name is Arjun Shaw\"\n",
    "s1[4:13] # slicing in order\n",
    "s1[::-1]  # slicing in reverse order\n"
   ]
  },
  {
   "cell_type": "code",
   "execution_count": 37,
   "metadata": {},
   "outputs": [
    {
     "name": "stdout",
     "output_type": "stream",
     "text": [
      "Number of vowels: 7\n"
     ]
    }
   ],
   "source": [
    "sentence = \"my name is aejun shaw \"\n",
    "vowels = \"aeiou\"\n",
    "vowel_count = 0\n",
    "\n",
    "for char in sentence:\n",
    "    if char in vowels:\n",
    "        vowel_count += 1\n",
    "\n",
    "print(\"Number of vowels:\", vowel_count)\n",
    "\n",
    "# print(\"Vowels present in the sentence:\")\n",
    "# for char in sentence:\n",
    "#     if char in vowels:\n",
    "#         print(char, end=\" \")\n",
    "\n",
    "# print() "
   ]
  },
  {
   "cell_type": "code",
   "execution_count": null,
   "metadata": {},
   "outputs": [
    {
     "name": "stdout",
     "output_type": "stream",
     "text": [
      "Number of unique data types: 6\n",
      "Types of data: [<class 'int'>, <class 'str'>, <class 'float'>, <class 'bool'>, <class 'list'>, <class 'tuple'>]\n"
     ]
    }
   ],
   "source": [
    "\n",
    "data = (1, \"hello\", 3.14, True, [1, 2], (3, 4))\n",
    "\n",
    "\n",
    "types = []\n",
    "\n",
    "\n",
    "for item in data:\n",
    "    if type(item) not in types:\n",
    "        types.append(type(item))\n",
    "\n",
    "\n",
    "print(\"Number of unique data types:\", len(types))\n",
    "print(\"Types of data:\", types)\n"
   ]
  },
  {
   "cell_type": "code",
   "execution_count": null,
   "metadata": {},
   "outputs": [
    {
     "name": "stdout",
     "output_type": "stream",
     "text": [
      "{1, 2, 3, 4}\n"
     ]
    }
   ],
   "source": [
    "s = {1, 2, 3}    # set in python\n",
    "s.add(4)\n",
    "print(s)"
   ]
  },
  {
   "cell_type": "code",
   "execution_count": 45,
   "metadata": {},
   "outputs": [
    {
     "name": "stdout",
     "output_type": "stream",
     "text": [
      "{1, 2, 3, 5, 7}\n"
     ]
    }
   ],
   "source": [
    "#update function\n",
    "s = {1, 2, 3}\n",
    "l = {1, 3, 5, 7}\n",
    "s.update(l)\n",
    "print(s)"
   ]
  },
  {
   "cell_type": "code",
   "execution_count": 49,
   "metadata": {},
   "outputs": [
    {
     "name": "stdout",
     "output_type": "stream",
     "text": [
      "{1, 2, 3, 5, 6, 7, 8, 9}\n"
     ]
    }
   ],
   "source": [
    "s = {1, 2,3 ,5, 7}\n",
    "s.update([3, 5, 9],(5, 6,  7, 8))\n",
    "print(s)"
   ]
  },
  {
   "cell_type": "code",
   "execution_count": 53,
   "metadata": {},
   "outputs": [
    {
     "ename": "KeyError",
     "evalue": "4",
     "output_type": "error",
     "traceback": [
      "\u001b[1;31m---------------------------------------------------------------------------\u001b[0m",
      "\u001b[1;31mKeyError\u001b[0m                                  Traceback (most recent call last)",
      "Cell \u001b[1;32mIn[53], line 3\u001b[0m\n\u001b[0;32m      1\u001b[0m s \u001b[38;5;241m=\u001b[39m {\u001b[38;5;241m1\u001b[39m, \u001b[38;5;241m2\u001b[39m,\u001b[38;5;241m3\u001b[39m ,\u001b[38;5;241m5\u001b[39m, \u001b[38;5;241m7\u001b[39m}\n\u001b[0;32m      2\u001b[0m \u001b[38;5;66;03m# s.discard(4)  # it is not given error if value is not present in sets\u001b[39;00m\n\u001b[1;32m----> 3\u001b[0m \u001b[43ms\u001b[49m\u001b[38;5;241;43m.\u001b[39;49m\u001b[43mremove\u001b[49m\u001b[43m(\u001b[49m\u001b[38;5;241;43m4\u001b[39;49m\u001b[43m)\u001b[49m  \u001b[38;5;66;03m# it is  given error if value is not present in sets\u001b[39;00m\n\u001b[0;32m      4\u001b[0m \u001b[38;5;28mprint\u001b[39m(s)\n",
      "\u001b[1;31mKeyError\u001b[0m: 4"
     ]
    }
   ],
   "source": [
    "s = {1, 2,3 ,5, 7}\n",
    "# s.discard(4)  # it is not given error if value is not present in sets\n",
    "s.remove(4)  # it is  given error if value is not present in sets\n",
    "print(s)\n",
    "\n"
   ]
  },
  {
   "cell_type": "code",
   "execution_count": 56,
   "metadata": {},
   "outputs": [
    {
     "ename": "AttributeError",
     "evalue": "'set' object has no attribute 'superset'",
     "output_type": "error",
     "traceback": [
      "\u001b[1;31m---------------------------------------------------------------------------\u001b[0m",
      "\u001b[1;31mAttributeError\u001b[0m                            Traceback (most recent call last)",
      "Cell \u001b[1;32mIn[56], line 4\u001b[0m\n\u001b[0;32m      2\u001b[0m s2 \u001b[38;5;241m=\u001b[39m {\u001b[38;5;241m2\u001b[39m, \u001b[38;5;241m3\u001b[39m}\n\u001b[0;32m      3\u001b[0m \u001b[38;5;66;03m# s2.issubset(s1) #\u001b[39;00m\n\u001b[1;32m----> 4\u001b[0m \u001b[43ms1\u001b[49m\u001b[38;5;241;43m.\u001b[39;49m\u001b[43msuperset\u001b[49m(s2) \u001b[38;5;66;03m#\u001b[39;00m\n",
      "\u001b[1;31mAttributeError\u001b[0m: 'set' object has no attribute 'superset'"
     ]
    }
   ],
   "source": [
    "s1 = {1, 2, 3, 4}\n",
    "s2 = {2, 3}\n",
    "# s2.issubset(s1) #\n",
    "s1.superset(s2) #"
   ]
  },
  {
   "cell_type": "code",
   "execution_count": 58,
   "metadata": {},
   "outputs": [
    {
     "name": "stdout",
     "output_type": "stream",
     "text": [
      "{100: 'Debolina', 101: 'Arjun', 102: 'Debargha'}\n",
      "\"key = \" 100 \"value = \" Debolina\n",
      "\"key = \" 101 \"value = \" Arjun\n",
      "\"key = \" 102 \"value = \" Debargha\n"
     ]
    }
   ],
   "source": [
    "d = {100:\"Debolina\", 101:\"Arjun\", 102:\"Debargha\"}\n",
    "print(d)\n",
    "\n",
    "for k in d:\n",
    "    print('\"key = \"', k, '\"value = \"', d[k])"
   ]
  },
  {
   "cell_type": "code",
   "execution_count": null,
   "metadata": {},
   "outputs": [],
   "source": [
    "a=str(input(\"enter a name=\"))\n",
    "b=str(input(\"enter a name=\"))\n",
    "c=str(input(\"enter a name=\"))\n",
    "d=str(input(\"enter a name=\"))\n",
    "d={\"A\":a,\"B\":b,\"C\":c,\"D\":d}\n",
    "print(d)\n",
    " "
   ]
  },
  {
   "cell_type": "code",
   "execution_count": 60,
   "metadata": {},
   "outputs": [
    {
     "name": "stdout",
     "output_type": "stream",
     "text": [
      "Enter word for letter :  a\n",
      "Enter word for letter :  b\n",
      "Enter word for letter :  c\n",
      "Enter word for letter :  d\n",
      "{'a': 'apple', 'b': 'bnanana', 'c': 'orange', 'd': 'name'}\n"
     ]
    }
   ],
   "source": [
    "words = {}\n",
    "l = ['a', 'b', 'c', 'd']\n",
    "\n",
    "for x in l:\n",
    "    print(\"Enter word for letter : \",x)\n",
    "    words[x] = input()\n",
    "print(words)"
   ]
  },
  {
   "cell_type": "code",
   "execution_count": 3,
   "metadata": {},
   "outputs": [
    {
     "name": "stdout",
     "output_type": "stream",
     "text": [
      "\n",
      "The created dictionary with email-password pairs is:\n",
      "{'arjun@gmail.com': '12we', 'ram@gmail.com': 'rem1234'}\n"
     ]
    }
   ],
   "source": [
    "\n",
    "email_password_dict = {}  # Empty dictionary\n",
    "\n",
    "\n",
    "n = int(input(\"Enter the number :  \")) # how many email addresses you want to\n",
    "\n",
    "\n",
    "i = 1\n",
    "while i <= n:\n",
    "    email = input(f\"Enter Email ID {i}: \")\n",
    "    password = input(f\"Enter Password for '{email}': \")\n",
    "\n",
    "    email_password_dict[email] = password  \n",
    "    \n",
    "    i += 1\n",
    "\n",
    "\n",
    "print(\"\\nThe created dictionary with email-password pairs is:\")\n",
    "print(email_password_dict)\n"
   ]
  },
  {
   "cell_type": "code",
   "execution_count": null,
   "metadata": {},
   "outputs": [
    {
     "name": "stdout",
     "output_type": "stream",
     "text": [
      "\n",
      "The created dictionary with user details is:\n",
      "All details\n",
      " {'arjunshaw@gmail.com': {'Name': 'Arjun', 'Password': 'aerju123', 'College ID': 'GNIT/2023/1222', 'Phone Number': 'JEET'}, 'jeet123@gmail.com': {'Name': 'jeet@gmail.com', 'Password': '1234jeet', 'College ID': 'GNIT/2024/1223', 'Phone Number': '5847963214'}} \n",
      "\n"
     ]
    }
   ],
   "source": [
    "detail_dict = {}  # Empty dictionary\n",
    "\n",
    "n = int(input(\"Enter the number of records you want to add: \"))  # Number of records\n",
    "\n",
    "i = 1\n",
    "while i <= n:\n",
    "    name = input(f\"Enter Name for record {i}: \")\n",
    "    email = input(f\"Enter Email ID for '{name}': \")\n",
    "    password = input(f\"Enter Password for '{email}': \")\n",
    "    college_id = input(f\"Enter College ID for '{name}': \")\n",
    "    phone_number = input(f\"Enter Phone Number for '{name}': \")\n",
    "    \n",
    "    # Store all details in a nested dictionary\n",
    "    detail_dict[email] = {\n",
    "        \"Name\": name,\n",
    "        \"Password\": password,\n",
    "        \"College ID\": college_id,\n",
    "        \"Phone Number\": phone_number\n",
    "    }\n",
    "    \n",
    "    i += 1\n",
    "\n",
    "print(\"\\nThe created dictionary with user details is:\")\n",
    "print(detail_dict)\n"
   ]
  },
  {
   "cell_type": "code",
   "execution_count": 1,
   "metadata": {},
   "outputs": [
    {
     "name": "stdout",
     "output_type": "stream",
     "text": [
      "\n",
      "The collected data in tabular format is:\n",
      "+---------------------+---------+--------------+----------------+--------------+\n",
      "|        Email        |   Name  |   Password   |   College ID   | Phone Number |\n",
      "+---------------------+---------+--------------+----------------+--------------+\n",
      "| arjunshaw@gmail.com |  Arjun  |  Arjun1234   | GNIT/2024/1222 |  1478963250  |\n",
      "|    jeet@gmail.com   |   Jeet  |  Jeet1234!   | GNIT/2024/1223 |  8574963215  |\n",
      "|  sanjeev@gmail.com  | Sanjeev | Sanjeev123@  | GNIT/2024/1224 |  7412589036  |\n",
      "|  arif123@gmail.com  |   Arif  |   Arif@123   | GNIT/2024/1225 |  7896540123  |\n",
      "|  somirans@gmail.com | Somiran | Somiran234@1 | GNIT/2024/1226 |  7458965874  |\n",
      "+---------------------+---------+--------------+----------------+--------------+\n"
     ]
    }
   ],
   "source": [
    "from prettytable import PrettyTable\n",
    "\n",
    "# Initialize an empty dictionary\n",
    "email_password_dict = {}\n",
    "\n",
    "# Ask for the number of records\n",
    "n = int(input(\"Enter the number of records you want to add: \"))\n",
    "\n",
    "# Collect data from the user\n",
    "i = 1\n",
    "while i <= n:\n",
    "    name = input(f\"Enter Name for record {i}: \")\n",
    "    email = input(f\"Enter Email ID for '{name}': \")\n",
    "    password = input(f\"Enter Password for '{email}': \")\n",
    "    college_id = input(f\"Enter College ID for '{name}': \")\n",
    "    phone_number = input(f\"Enter Phone Number for '{name}': \")\n",
    "    \n",
    "    # Store data in the dictionary\n",
    "    email_password_dict[email] = {\n",
    "        \"Name\": name,\n",
    "        \"Password\": password,\n",
    "        \"College ID\": college_id,\n",
    "        \"Phone Number\": phone_number\n",
    "    }\n",
    "    i += 1\n",
    "\n",
    "# Create a PrettyTable object\n",
    "table = PrettyTable()\n",
    "table.field_names = [\"Email\", \"Name\", \"Password\", \"College ID\", \"Phone Number\"]\n",
    "\n",
    "# Add rows to the table\n",
    "for email, details in email_password_dict.items():\n",
    "    table.add_row([email, details[\"Name\"], details[\"Password\"], details[\"College ID\"], details[\"Phone Number\"]])\n",
    "\n",
    "# Display the table\n",
    "print(\"\\nThe collected data in tabular format is:\")\n",
    "print(table)\n"
   ]
  },
  {
   "cell_type": "code",
   "execution_count": 2,
   "metadata": {},
   "outputs": [
    {
     "name": "stdout",
     "output_type": "stream",
     "text": [
      "\n",
      "1. Sign-up\n",
      "2. Login\n",
      "3. Display all users\n",
      "4. Delete a user\n",
      "5. Exit\n",
      "Sign-up successful!\n",
      "\n",
      "1. Sign-up\n",
      "2. Login\n",
      "3. Display all users\n",
      "4. Delete a user\n",
      "5. Exit\n",
      "Sign-up successful!\n",
      "\n",
      "1. Sign-up\n",
      "2. Login\n",
      "3. Display all users\n",
      "4. Delete a user\n",
      "5. Exit\n",
      "Login failed. Invalid email ID or password.\n",
      "\n",
      "1. Sign-up\n",
      "2. Login\n",
      "3. Display all users\n",
      "4. Delete a user\n",
      "5. Exit\n",
      "+----------+-----------------+----------+\n",
      "|   Name   |      Email      | Password |\n",
      "+----------+-----------------+----------+\n",
      "|  Arjun   | arjun@gmail.com |  asd123  |\n",
      "| debargha | devas@gmail.com |  dsa123  |\n",
      "+----------+-----------------+----------+\n",
      "\n",
      "1. Sign-up\n",
      "2. Login\n",
      "3. Display all users\n",
      "4. Delete a user\n",
      "5. Exit\n",
      "+----------+-----------------+----------+\n",
      "|   Name   |      Email      | Password |\n",
      "+----------+-----------------+----------+\n",
      "|  Arjun   | arjun@gmail.com |  asd123  |\n",
      "| debargha | devas@gmail.com |  dsa123  |\n",
      "+----------+-----------------+----------+\n",
      "\n",
      "1. Sign-up\n",
      "2. Login\n",
      "3. Display all users\n",
      "4. Delete a user\n",
      "5. Exit\n",
      "\n",
      "All registered users:\n",
      "\n",
      "+----------+-----------------+----------+\n",
      "|   Name   |      Email      | Password |\n",
      "+----------+-----------------+----------+\n",
      "|  Arjun   | arjun@gmail.com |  asd123  |\n",
      "| debargha | devas@gmail.com |  dsa123  |\n",
      "+----------+-----------------+----------+\n",
      "Goodbye!\n"
     ]
    }
   ],
   "source": [
    "from prettytable import PrettyTable\n",
    "\n",
    "# Initialize an empty list to store user data\n",
    "users = []\n",
    "\n",
    "def sign_up():\n",
    "    name = input(\"Enter your name: \")\n",
    "    email = input(\"Enter your email ID: \")\n",
    "    password = input(\"Enter your password: \")\n",
    "\n",
    "    if any(user['Email'] == email for user in users):\n",
    "        print(\"Email ID already exists. Please try logging in.\")\n",
    "        return\n",
    "\n",
    "    users.append({\"Name\": name, \"Email\": email, \"Password\": password})\n",
    "    print(\"Sign-up successful!\")\n",
    "\n",
    "def login():\n",
    "    email = input(\"Enter your email ID: \")\n",
    "    password = input(\"Enter your password: \")\n",
    "\n",
    "    if any(user['Email'] == email and user['Password'] == password for user in users):\n",
    "        print(\"Login successful.\")\n",
    "    else:\n",
    "        print(\"Login failed. Invalid email ID or password.\")\n",
    "\n",
    "def display_users():\n",
    "    if users:\n",
    "        table = PrettyTable()\n",
    "        table.field_names = [\"Name\", \"Email\", \"Password\"]\n",
    "        for user in users:\n",
    "            table.add_row([user['Name'], user['Email'], user['Password']])\n",
    "        print(table)\n",
    "    else:\n",
    "        print(\"No users found.\")\n",
    "\n",
    "def delete_user():\n",
    "    email = input(\"Enter the email ID of the user to delete: \")\n",
    "\n",
    "    for user in users:\n",
    "        if user['Email'] == email:\n",
    "            users.remove(user)\n",
    "            print(\"User deleted successfully.\")\n",
    "            return\n",
    "\n",
    "    print(\"User not found.\")\n",
    "\n",
    "def main():\n",
    "    while True:\n",
    "        print(\"\\n1. Sign-up\\n2. Login\\n3. Display all users\\n4. Delete a user\\n5. Exit\")\n",
    "        choice = input(\"Enter your choice: \")\n",
    "\n",
    "        if choice == '1':\n",
    "            sign_up()\n",
    "        elif choice == '2':\n",
    "            login()\n",
    "        elif choice == '3':\n",
    "            display_users()\n",
    "        elif choice == '4':\n",
    "            delete_user()\n",
    "        elif choice == '5':\n",
    "            if users:\n",
    "                print(\"\\nAll registered users:\\n\")\n",
    "                table = PrettyTable()\n",
    "                table.field_names = [\"Name\", \"Email\", \"Password\"]\n",
    "                for user in users:\n",
    "                    table.add_row([user['Name'], user['Email'], user['Password']])\n",
    "                print(table)\n",
    "            else:\n",
    "                print(\"\\nNo users registered.\\n\")\n",
    "            print(\"Goodbye!\")\n",
    "            break\n",
    "        else:\n",
    "            print(\"Invalid choice.\")\n",
    "\n",
    "if __name__ == \"__main__\":\n",
    "    main()\n"
   ]
  }
 ],
 "metadata": {
  "kernelspec": {
   "display_name": "Python 3",
   "language": "python",
   "name": "python3"
  },
  "language_info": {
   "codemirror_mode": {
    "name": "ipython",
    "version": 3
   },
   "file_extension": ".py",
   "mimetype": "text/x-python",
   "name": "python",
   "nbconvert_exporter": "python",
   "pygments_lexer": "ipython3",
   "version": "3.11.2"
  }
 },
 "nbformat": 4,
 "nbformat_minor": 2
}
